{
 "cells": [
  {
   "cell_type": "code",
   "execution_count": 1,
   "metadata": {},
   "outputs": [],
   "source": [
    "import math\n",
    "\n",
    "def plogp(p):\n",
    "    if p < 1e-5:\n",
    "        return 0\n",
    "    else:\n",
    "        return round(p * math.log2(p), 3)\n",
    "\n",
    "def H(p1, p2):\n",
    "    total = p1 + p2\n",
    "    entropy = -(plogp(p1 / total) + plogp(p2 / total))\n",
    "    return round(entropy, 3)\n",
    "\n",
    "def avg(items, ps=None):\n",
    "    if ps is None:\n",
    "        return sum(items) / len(items)\n",
    "    return round(sum(item * p for item, p in zip(items, ps)) / sum(ps), 3)"
   ]
  },
  {
   "cell_type": "code",
   "execution_count": 2,
   "metadata": {},
   "outputs": [
    {
     "data": {
      "text/plain": [
       "(0.998, 1.0, 0.918, 0.722)"
      ]
     },
     "execution_count": 2,
     "metadata": {},
     "output_type": "execute_result"
    }
   ],
   "source": [
    "H(8, 9), H(3, 3), H(4, 2), H(1, 4)"
   ]
  },
  {
   "cell_type": "code",
   "execution_count": 3,
   "metadata": {},
   "outputs": [
    {
     "name": "stdout",
     "output_type": "stream",
     "text": [
      "0.109\n"
     ]
    }
   ],
   "source": [
    "IG = H(8, 9) - avg((H(3, 3), H(4, 2), H(1, 4)), (6, 6, 5))\n",
    "print(\"%.3f\" % IG)"
   ]
  }
 ],
 "metadata": {
  "kernelspec": {
   "display_name": "base",
   "language": "python",
   "name": "python3"
  },
  "language_info": {
   "codemirror_mode": {
    "name": "ipython",
    "version": 3
   },
   "file_extension": ".py",
   "mimetype": "text/x-python",
   "name": "python",
   "nbconvert_exporter": "python",
   "pygments_lexer": "ipython3",
   "version": "3.9.12"
  },
  "orig_nbformat": 4
 },
 "nbformat": 4,
 "nbformat_minor": 2
}
